{
 "cells": [
  {
   "cell_type": "code",
   "execution_count": 1,
   "id": "80d3cd79",
   "metadata": {},
   "outputs": [],
   "source": [
    "# Overview of progress ( google API by country)  of vaccination (VS Death rate ) top 25 countries & Australia\n"
   ]
  },
  {
   "cell_type": "code",
   "execution_count": 2,
   "id": "0b72470d",
   "metadata": {},
   "outputs": [],
   "source": [
    "#dependencies \n",
    "import pandas as pd \n",
    "import matplotlib.pyplot as plt \n",
    "from config import gkey\n",
    "import requests\n",
    "import json \n",
    "import gmaps\n",
    "from matplotlib.ticker import FuncFormatter\n"
   ]
  },
  {
   "cell_type": "code",
   "execution_count": 3,
   "id": "bccad24d",
   "metadata": {
    "scrolled": true
   },
   "outputs": [],
   "source": [
    "# read csv file with vaccination data  and convert to dataframe \n",
    "file=\"Resources/country vaccinations.csv\"\n",
    "vacc=pd.read_csv(file)\n",
    "\n",
    "#groupby country and get percentage of fully vacc & firstdose per hundred \n",
    "# as data gets updated as per time, hence the max will be the latest vaccination rate per hundred \n",
    "firstdose=vacc.groupby('country')['people_vaccinated_per_hundred'].max()\n",
    "fully_vacc=vacc.groupby('country')['people_fully_vaccinated_per_hundred'].max()\n",
    "\n",
    "#create new dataframe with vacc progress (first, fully, not vacc )\n",
    "vacc_details=pd.DataFrame({\"First Dose\": round(firstdose/100,2),\n",
    "                           \"Fully Vaccinated\": round(fully_vacc/100,2),\n",
    "                           \"Not Vaccinated\":\"\"})\n",
    "\n",
    "# clean data by dropping n/a and remove people vaccinated>100 per hundred (invalid data)\n",
    "#df.loc[(df['column_name'] >= A) & (df['column_name'] <= B)]\n",
    "vacc_clean=vacc_details.loc[vacc_details['First Dose']<=100].dropna()\n",
    "\n",
    "# calculate value of people not vaccinated and update df (100-people receive first dose)\n",
    "vacc_clean['Not Vaccinated']=1-vacc_clean['First Dose']\n",
    "vacc_progress=vacc_clean.sample(n=24)\n"
   ]
  },
  {
   "cell_type": "code",
   "execution_count": 4,
   "id": "b2656faf",
   "metadata": {},
   "outputs": [
    {
     "data": {
      "text/plain": [
       "Text(0.5, 1.0, 'Overview Worldwide Vaccination Progress (%)')"
      ]
     },
     "execution_count": 4,
     "metadata": {},
     "output_type": "execute_result"
    },
    {
     "data": {
      "image/png": "[encoded data removed]",
      "text/plain": [
       "<Figure size 432x288 with 1 Axes>"
      ]
     },
     "metadata": {
      "needs_background": "light"
     },
     "output_type": "display_data"
    }
   ],
   "source": [
    "# plotting stack bar chart \n",
    "ax=vacc_progress['First Dose'].plot(kind='barh', color='red', width=.5, alpha=0.8)\n",
    "vacc_progress['Fully Vaccinated'].plot(kind='barh', color='green', width=.5, alpha=0.8)\n",
    "#setting range of x axis and format it as % \n",
    "ax.set_xlim(0, 1)\n",
    "ax.xaxis.set_major_formatter(FuncFormatter('{0:.0%}'.format))\n",
    "#adding labels \n",
    "ax.set_xlabel('vaccination rate')\n",
    "ax.set_ylabel('country')\n",
    "ax.set_title('Overview Worldwide Vaccination Progress (%)')"
   ]
  },
  {
   "cell_type": "code",
   "execution_count": 5,
   "id": "6b8c5879",
   "metadata": {},
   "outputs": [
    {
     "data": {
      "text/html": [
       "<div>\n",
       "<style scoped>\n",
       "    .dataframe tbody tr th:only-of-type {\n",
       "        vertical-align: middle;\n",
       "    }\n",
       "\n",
       "    .dataframe tbody tr th {\n",
       "        vertical-align: top;\n",
       "    }\n",
       "\n",
       "    .dataframe thead th {\n",
       "        text-align: right;\n",
       "    }\n",
       "</style>\n",
       "<table border=\"1\" class=\"dataframe\">\n",
       "  <thead>\n",
       "    <tr style=\"text-align: right;\">\n",
       "      <th></th>\n",
       "      <th>country</th>\n",
       "      <th>First Dose</th>\n",
       "      <th>Fully Vaccinated</th>\n",
       "      <th>Not Vaccinated</th>\n",
       "      <th>Capital</th>\n",
       "      <th>Latitude</th>\n",
       "      <th>Longtitude</th>\n",
       "    </tr>\n",
       "  </thead>\n",
       "  <tbody>\n",
       "    <tr>\n",
       "      <th>0</th>\n",
       "      <td>Afghanistan</td>\n",
       "      <td>0.02</td>\n",
       "      <td>0.01</td>\n",
       "      <td>0.98</td>\n",
       "      <td>Kabul</td>\n",
       "      <td>34.516667</td>\n",
       "      <td>69.183333</td>\n",
       "    </tr>\n",
       "    <tr>\n",
       "      <th>1</th>\n",
       "      <td>Albania</td>\n",
       "      <td>0.24</td>\n",
       "      <td>0.19</td>\n",
       "      <td>0.76</td>\n",
       "      <td>Tirana</td>\n",
       "      <td>41.316667</td>\n",
       "      <td>19.816667</td>\n",
       "    </tr>\n",
       "    <tr>\n",
       "      <th>2</th>\n",
       "      <td>Algeria</td>\n",
       "      <td>0.08</td>\n",
       "      <td>0.02</td>\n",
       "      <td>0.92</td>\n",
       "      <td>Algiers</td>\n",
       "      <td>36.750000</td>\n",
       "      <td>3.050000</td>\n",
       "    </tr>\n",
       "    <tr>\n",
       "      <th>3</th>\n",
       "      <td>Andorra</td>\n",
       "      <td>0.63</td>\n",
       "      <td>0.44</td>\n",
       "      <td>0.37</td>\n",
       "      <td>Andorra la Vella</td>\n",
       "      <td>42.500000</td>\n",
       "      <td>1.516667</td>\n",
       "    </tr>\n",
       "    <tr>\n",
       "      <th>4</th>\n",
       "      <td>Angola</td>\n",
       "      <td>0.03</td>\n",
       "      <td>0.02</td>\n",
       "      <td>0.97</td>\n",
       "      <td>Luanda</td>\n",
       "      <td>-8.833333</td>\n",
       "      <td>13.216667</td>\n",
       "    </tr>\n",
       "  </tbody>\n",
       "</table>\n",
       "</div>"
      ],
      "text/plain": [
       "       country  First Dose  Fully Vaccinated  Not Vaccinated  \\\n",
       "0  Afghanistan        0.02              0.01            0.98   \n",
       "1      Albania        0.24              0.19            0.76   \n",
       "2      Algeria        0.08              0.02            0.92   \n",
       "3      Andorra        0.63              0.44            0.37   \n",
       "4       Angola        0.03              0.02            0.97   \n",
       "\n",
       "            Capital   Latitude  Longtitude  \n",
       "0             Kabul  34.516667   69.183333  \n",
       "1            Tirana  41.316667   19.816667  \n",
       "2           Algiers  36.750000    3.050000  \n",
       "3  Andorra la Vella  42.500000    1.516667  \n",
       "4            Luanda  -8.833333   13.216667  "
      ]
     },
     "execution_count": 5,
     "metadata": {},
     "output_type": "execute_result"
    }
   ],
   "source": [
    "#getting geo data \n",
    "file2=\"Resources/country-capitals.csv\"\n",
    "geo=pd.read_csv(file2)\n",
    "#only need contry, capital, lat and lng details, rename country so we can merge with vacc data \n",
    "geo=geo.rename(columns={\"CountryName\": \"country\",\"CapitalName\": \"Capital\",\"CapitalLatitude\": \"Latitude\", \"CapitalLongitude\": \"Longtitude\"})\n",
    "geo_cut=geo[geo.columns[0:4]]\n",
    "\n",
    "#merge data on country name \n",
    "vacc_geo=pd.merge(vacc_clean, geo_cut, how=\"left\", on=['country']).dropna()\n",
    "vacc_geo.head()"
   ]
  },
  {
   "cell_type": "code",
   "execution_count": 6,
   "id": "7b2f7af7",
   "metadata": {},
   "outputs": [
    {
     "data": {
      "application/vnd.jupyter.widget-view+json": {
       "model_id": "ebe6b1d8cada4fd39b4f319de56ee0cc",
       "version_major": 2,
       "version_minor": 0
      },
      "text/plain": [
       "Figure(layout=FigureLayout(height='420px'))"
      ]
     },
     "metadata": {},
     "output_type": "display_data"
    }
   ],
   "source": [
    "\n",
    "#config gmaps \n",
    "gmaps.configure(api_key=gkey)\n",
    "\n",
    "#Store latitude and longitude in locations\n",
    "locations=vacc_geo[['Latitude', 'Longtitude']]\n",
    "\n",
    "#plot heatmap \n",
    "fig=gmaps.figure()\n",
    "\n",
    "#first dose as weights \n",
    "first_dose_rate=vacc_geo['First Dose']\n",
    "\n",
    "#create a layer \n",
    "rate_layer=gmaps.heatmap_layer(locations, weights=first_dose_rate, max_intensity=1, dissipating=False, point_radius=1.5)\n",
    "\n",
    "#add layer \n",
    "fig.add_layer(rate_layer)\n",
    "\n",
    "#display\n",
    "fig"
   ]
  },
  {
   "cell_type": "code",
   "execution_count": 8,
   "id": "2809e091",
   "metadata": {},
   "outputs": [
    {
     "data": {
      "application/vnd.jupyter.widget-view+json": {
       "model_id": "47b8ee9538284380916478f62fe6a770",
       "version_major": 2,
       "version_minor": 0
      },
      "text/plain": [
       "Figure(layout=FigureLayout(height='420px'))"
      ]
     },
     "metadata": {},
     "output_type": "display_data"
    }
   ],
   "source": [
    "countries_string = requests.get(\"https://raw.githubusercontent.com/johan/world.geo.json/master/countries.geo.json\").content\n",
    "countries = json.loads(countries_string)\n",
    "#config gmaps \n",
    "gmaps.configure(api_key=gkey)\n",
    "\n",
    "fig=gmaps.figure()\n",
    "geojson = gmaps.geojson_layer(countries)\n",
    "fig.add_layer(geojson)\n",
    "fig\n",
    "\n",
    "\n"
   ]
  },
  {
   "cell_type": "code",
   "execution_count": null,
   "id": "9d3e5434",
   "metadata": {},
   "outputs": [],
   "source": []
  },
  {
   "cell_type": "code",
   "execution_count": null,
   "id": "66d2f938",
   "metadata": {},
   "outputs": [],
   "source": []
  },
  {
   "cell_type": "code",
   "execution_count": null,
   "id": "2461475a",
   "metadata": {},
   "outputs": [],
   "source": []
  },
  {
   "cell_type": "code",
   "execution_count": null,
   "id": "5dc6fd6d",
   "metadata": {},
   "outputs": [],
   "source": []
  }
 ],
 "metadata": {
  "kernelspec": {
   "display_name": "Python 3",
   "language": "python",
   "name": "python3"
  },
  "language_info": {
   "codemirror_mode": {
    "name": "ipython",
    "version": 3
   },
   "file_extension": ".py",
   "mimetype": "text/x-python",
   "name": "python",
   "nbconvert_exporter": "python",
   "pygments_lexer": "ipython3",
   "version": "3.8.8"
  }
 },
 "nbformat": 4,
 "nbformat_minor": 5
}
