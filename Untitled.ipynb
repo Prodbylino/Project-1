{
 "cells": [
  {
   "cell_type": "code",
   "execution_count": 1,
   "id": "bd361ed7",
   "metadata": {},
   "outputs": [],
   "source": [
    "import json\n",
    "import requests\n",
    "from config import gkey"
   ]
  },
  {
   "cell_type": "code",
   "execution_count": 2,
   "id": "fc82b169",
   "metadata": {},
   "outputs": [],
   "source": [
    "countries_string = requests.get(\n",
    "    \"https://raw.githubusercontent.com/johan/world.geo.json/master/countries.geo.json\").content\n",
    "countries = json.loads(countries_string)"
   ]
  },
  {
   "cell_type": "code",
   "execution_count": 3,
   "id": "e43276af",
   "metadata": {},
   "outputs": [
    {
     "data": {
      "application/vnd.jupyter.widget-view+json": {
       "model_id": "ea5b76e942c14d42b005ce2de21880d1",
       "version_major": 2,
       "version_minor": 0
      },
      "text/plain": [
       "Figure(layout=FigureLayout(height='420px'))"
      ]
     },
     "metadata": {},
     "output_type": "display_data"
    }
   ],
   "source": [
    "import gmaps\n",
    "gmaps.configure(api_key=gkey)\n",
    "fig = gmaps.figure()\n",
    "geojson = gmaps.geojson_layer(countries)\n",
    "fig.add_layer(geojson)\n",
    "fig"
   ]
  },
  {
   "cell_type": "code",
   "execution_count": null,
   "id": "6bf9a192",
   "metadata": {},
   "outputs": [],
   "source": []
  }
 ],
 "metadata": {
  "kernelspec": {
   "display_name": "Python 3",
   "language": "python",
   "name": "python3"
  },
  "language_info": {
   "codemirror_mode": {
    "name": "ipython",
    "version": 3
   },
   "file_extension": ".py",
   "mimetype": "text/x-python",
   "name": "python",
   "nbconvert_exporter": "python",
   "pygments_lexer": "ipython3",
   "version": "3.8.8"
  }
 },
 "nbformat": 4,
 "nbformat_minor": 5
}
